{
 "cells": [
  {
   "cell_type": "markdown",
   "id": "7f95d4c8-5fd2-41e3-b5b8-405701e6c384",
   "metadata": {},
   "source": [
    "#Change file directory\n"
   ]
  },
  {
   "cell_type": "code",
   "execution_count": 34,
   "id": "3b046362-5dcb-4dd9-ba06-b5bed53d027a",
   "metadata": {},
   "outputs": [],
   "source": [
    "os.chdir(\"C:\\\\Users\\\\HP\\\\Documents\\\\Portfolio\")"
   ]
  },
  {
   "cell_type": "code",
   "execution_count": 36,
   "id": "364d14fd-82ec-4a6d-98fb-25b30247605a",
   "metadata": {},
   "outputs": [
    {
     "data": {
      "text/plain": [
       "'C:\\\\Users\\\\HP\\\\Documents\\\\Portfolio'"
      ]
     },
     "execution_count": 36,
     "metadata": {},
     "output_type": "execute_result"
    }
   ],
   "source": [
    "pwd"
   ]
  },
  {
   "cell_type": "code",
   "execution_count": 24,
   "id": "e0dae4ea-c43f-4c91-af63-f3cf5cdcb8a9",
   "metadata": {},
   "outputs": [
    {
     "data": {
      "text/plain": [
       "'Objective: This exercise aimed to used data routinely colelcted information. \\nThe primary objectives is to use subjects age to detemine the Left ventricular ejection fraction'"
      ]
     },
     "execution_count": 24,
     "metadata": {},
     "output_type": "execute_result"
    }
   ],
   "source": [
    "\"\"\"Objective: This exercise aimed to used data routinely collected information. \n",
    "The primary objectives is to use subjects age to detemine the Left ventricular ejection fraction\"\"\""
   ]
  },
  {
   "cell_type": "markdown",
   "id": "262dff3c-612d-40c5-a1df-3e2600472e1a",
   "metadata": {},
   "source": [
    "#Import neccesary libraries"
   ]
  },
  {
   "cell_type": "code",
   "execution_count": 64,
   "id": "146d73fd-43f4-449e-adcf-dfffcafe7b32",
   "metadata": {},
   "outputs": [],
   "source": [
    "import pandas as pd\n",
    "import numpy as np\n",
    "import matplotlib.pyplot as plt\n",
    "import seaborn as sb\n",
    "sb.set()\n",
    "import statsmodels.api as sm\n"
   ]
  },
  {
   "cell_type": "code",
   "execution_count": 38,
   "id": "58a08cdc-ea92-447b-8f66-df380a06f7f1",
   "metadata": {},
   "outputs": [],
   "source": [
    "#Load data\n",
    "df=pd.read_excel(\"Linear_regression.xlsx\")"
   ]
  },
  {
   "cell_type": "code",
   "execution_count": 97,
   "id": "e14d0c8e-b351-4b64-bf10-282094dff134",
   "metadata": {},
   "outputs": [
    {
     "name": "stdout",
     "output_type": "stream",
     "text": [
      "<class 'pandas.core.frame.DataFrame'>\n",
      "RangeIndex: 105 entries, 0 to 104\n",
      "Data columns (total 3 columns):\n",
      " #   Column        Non-Null Count  Dtype  \n",
      "---  ------        --------------  -----  \n",
      " 0   study_number  105 non-null    int64  \n",
      " 1   age           105 non-null    int64  \n",
      " 2   LVEF          105 non-null    float64\n",
      "dtypes: float64(1), int64(2)\n",
      "memory usage: 2.6 KB\n",
      "0.024383150704632695\n"
     ]
    }
   ],
   "source": [
    "# Descriptive analysis\n",
    "df.head()\n",
    "df.info()\n",
    "df.describe()\n",
    "correlation = df[\"age\"].corr(df[\"LVEF\"], method= \"pearson\")\n",
    "print(correlation)"
   ]
  },
  {
   "cell_type": "code",
   "execution_count": 44,
   "id": "23e53267-d62c-442b-b796-2b1757865ac5",
   "metadata": {},
   "outputs": [],
   "source": [
    "#Simple linear regression\n",
    "y = df[\"LVEF\"]\n",
    "x1 = df [\"age\"]"
   ]
  },
  {
   "cell_type": "code",
   "execution_count": 82,
   "id": "049a90aa-083e-4a5e-8f16-336a420c8457",
   "metadata": {},
   "outputs": [
    {
     "data": {
      "image/png": "[encoded data removed]",
      "text/plain": [
       "<Figure size 640x480 with 1 Axes>"
      ]
     },
     "metadata": {},
     "output_type": "display_data"
    }
   ],
   "source": [
    "plt.scatter(x1,y)\n",
    "eq = 0.0238*x1 + 40.1742\n",
    "fig = plt.plot(x1, eq, lw=2, c=\"orange\", label= \"regression line\")\n",
    "plt.xlabel(\"Age of participants(Years)\", fontsize=10)\n",
    "plt.ylabel(\"Left ventricular ejection fraction(%)\", fontsize=10)\n",
    "plt.show()\n",
    "\n"
   ]
  },
  {
   "cell_type": "code",
   "execution_count": 62,
   "id": "68ce6daa-b99a-4dac-be1d-6f80c35df37c",
   "metadata": {},
   "outputs": [
    {
     "data": {
      "text/html": [
       "<table class=\"simpletable\">\n",
       "<caption>OLS Regression Results</caption>\n",
       "<tr>\n",
       "  <th>Dep. Variable:</th>          <td>LVEF</td>       <th>  R-squared:         </th> <td>   0.001</td>\n",
       "</tr>\n",
       "<tr>\n",
       "  <th>Model:</th>                   <td>OLS</td>       <th>  Adj. R-squared:    </th> <td>  -0.009</td>\n",
       "</tr>\n",
       "<tr>\n",
       "  <th>Method:</th>             <td>Least Squares</td>  <th>  F-statistic:       </th> <td> 0.06127</td>\n",
       "</tr>\n",
       "<tr>\n",
       "  <th>Date:</th>             <td>Sat, 13 Jul 2024</td> <th>  Prob (F-statistic):</th>  <td> 0.805</td> \n",
       "</tr>\n",
       "<tr>\n",
       "  <th>Time:</th>                 <td>04:40:18</td>     <th>  Log-Likelihood:    </th> <td> -434.61</td>\n",
       "</tr>\n",
       "<tr>\n",
       "  <th>No. Observations:</th>      <td>   105</td>      <th>  AIC:               </th> <td>   873.2</td>\n",
       "</tr>\n",
       "<tr>\n",
       "  <th>Df Residuals:</th>          <td>   103</td>      <th>  BIC:               </th> <td>   878.5</td>\n",
       "</tr>\n",
       "<tr>\n",
       "  <th>Df Model:</th>              <td>     1</td>      <th>                     </th>     <td> </td>   \n",
       "</tr>\n",
       "<tr>\n",
       "  <th>Covariance Type:</th>      <td>nonrobust</td>    <th>                     </th>     <td> </td>   \n",
       "</tr>\n",
       "</table>\n",
       "<table class=\"simpletable\">\n",
       "<tr>\n",
       "    <td></td>       <th>coef</th>     <th>std err</th>      <th>t</th>      <th>P>|t|</th>  <th>[0.025</th>    <th>0.975]</th>  \n",
       "</tr>\n",
       "<tr>\n",
       "  <th>const</th> <td>   40.1742</td> <td>    5.739</td> <td>    7.000</td> <td> 0.000</td> <td>   28.792</td> <td>   51.556</td>\n",
       "</tr>\n",
       "<tr>\n",
       "  <th>age</th>   <td>    0.0238</td> <td>    0.096</td> <td>    0.248</td> <td> 0.805</td> <td>   -0.167</td> <td>    0.214</td>\n",
       "</tr>\n",
       "</table>\n",
       "<table class=\"simpletable\">\n",
       "<tr>\n",
       "  <th>Omnibus:</th>       <td> 1.485</td> <th>  Durbin-Watson:     </th> <td>   1.917</td>\n",
       "</tr>\n",
       "<tr>\n",
       "  <th>Prob(Omnibus):</th> <td> 0.476</td> <th>  Jarque-Bera (JB):  </th> <td>   1.548</td>\n",
       "</tr>\n",
       "<tr>\n",
       "  <th>Skew:</th>          <td> 0.244</td> <th>  Prob(JB):          </th> <td>   0.461</td>\n",
       "</tr>\n",
       "<tr>\n",
       "  <th>Kurtosis:</th>      <td> 2.661</td> <th>  Cond. No.          </th> <td>    229.</td>\n",
       "</tr>\n",
       "</table><br/><br/>Notes:<br/>[1] Standard Errors assume that the covariance matrix of the errors is correctly specified."
      ],
      "text/latex": [
       "\\begin{center}\n",
       "\\begin{tabular}{lclc}\n",
       "\\toprule\n",
       "\\textbf{Dep. Variable:}    &       LVEF       & \\textbf{  R-squared:         } &     0.001   \\\\\n",
       "\\textbf{Model:}            &       OLS        & \\textbf{  Adj. R-squared:    } &    -0.009   \\\\\n",
       "\\textbf{Method:}           &  Least Squares   & \\textbf{  F-statistic:       } &   0.06127   \\\\\n",
       "\\textbf{Date:}             & Sat, 13 Jul 2024 & \\textbf{  Prob (F-statistic):} &    0.805    \\\\\n",
       "\\textbf{Time:}             &     04:40:18     & \\textbf{  Log-Likelihood:    } &   -434.61   \\\\\n",
       "\\textbf{No. Observations:} &         105      & \\textbf{  AIC:               } &     873.2   \\\\\n",
       "\\textbf{Df Residuals:}     &         103      & \\textbf{  BIC:               } &     878.5   \\\\\n",
       "\\textbf{Df Model:}         &           1      & \\textbf{                     } &             \\\\\n",
       "\\textbf{Covariance Type:}  &    nonrobust     & \\textbf{                     } &             \\\\\n",
       "\\bottomrule\n",
       "\\end{tabular}\n",
       "\\begin{tabular}{lcccccc}\n",
       "               & \\textbf{coef} & \\textbf{std err} & \\textbf{t} & \\textbf{P$> |$t$|$} & \\textbf{[0.025} & \\textbf{0.975]}  \\\\\n",
       "\\midrule\n",
       "\\textbf{const} &      40.1742  &        5.739     &     7.000  &         0.000        &       28.792    &       51.556     \\\\\n",
       "\\textbf{age}   &       0.0238  &        0.096     &     0.248  &         0.805        &       -0.167    &        0.214     \\\\\n",
       "\\bottomrule\n",
       "\\end{tabular}\n",
       "\\begin{tabular}{lclc}\n",
       "\\textbf{Omnibus:}       &  1.485 & \\textbf{  Durbin-Watson:     } &    1.917  \\\\\n",
       "\\textbf{Prob(Omnibus):} &  0.476 & \\textbf{  Jarque-Bera (JB):  } &    1.548  \\\\\n",
       "\\textbf{Skew:}          &  0.244 & \\textbf{  Prob(JB):          } &    0.461  \\\\\n",
       "\\textbf{Kurtosis:}      &  2.661 & \\textbf{  Cond. No.          } &     229.  \\\\\n",
       "\\bottomrule\n",
       "\\end{tabular}\n",
       "%\\caption{OLS Regression Results}\n",
       "\\end{center}\n",
       "\n",
       "Notes: \\newline\n",
       " [1] Standard Errors assume that the covariance matrix of the errors is correctly specified."
      ],
      "text/plain": [
       "<class 'statsmodels.iolib.summary.Summary'>\n",
       "\"\"\"\n",
       "                            OLS Regression Results                            \n",
       "==============================================================================\n",
       "Dep. Variable:                   LVEF   R-squared:                       0.001\n",
       "Model:                            OLS   Adj. R-squared:                 -0.009\n",
       "Method:                 Least Squares   F-statistic:                   0.06127\n",
       "Date:                Sat, 13 Jul 2024   Prob (F-statistic):              0.805\n",
       "Time:                        04:40:18   Log-Likelihood:                -434.61\n",
       "No. Observations:                 105   AIC:                             873.2\n",
       "Df Residuals:                     103   BIC:                             878.5\n",
       "Df Model:                           1                                         \n",
       "Covariance Type:            nonrobust                                         \n",
       "==============================================================================\n",
       "                 coef    std err          t      P>|t|      [0.025      0.975]\n",
       "------------------------------------------------------------------------------\n",
       "const         40.1742      5.739      7.000      0.000      28.792      51.556\n",
       "age            0.0238      0.096      0.248      0.805      -0.167       0.214\n",
       "==============================================================================\n",
       "Omnibus:                        1.485   Durbin-Watson:                   1.917\n",
       "Prob(Omnibus):                  0.476   Jarque-Bera (JB):                1.548\n",
       "Skew:                           0.244   Prob(JB):                        0.461\n",
       "Kurtosis:                       2.661   Cond. No.                         229.\n",
       "==============================================================================\n",
       "\n",
       "Notes:\n",
       "[1] Standard Errors assume that the covariance matrix of the errors is correctly specified.\n",
       "\"\"\""
      ]
     },
     "execution_count": 62,
     "metadata": {},
     "output_type": "execute_result"
    }
   ],
   "source": [
    "x=sm.add_constant(x1)\n",
    "results=sm.OLS(y,x).fit()\n",
    "results.summary()"
   ]
  },
  {
   "cell_type": "markdown",
   "id": "0bd0afe6-615c-4c90-ad42-842d27e90ed3",
   "metadata": {},
   "source": [
    "#Results Interpretation"
   ]
  },
  {
   "cell_type": "code",
   "execution_count": 109,
   "id": "17c94fb9-e455-4125-ab11-0a8f193107fc",
   "metadata": {},
   "outputs": [
    {
     "name": "stdout",
     "output_type": "stream",
     "text": [
      "Pearson correlation of 0.02 shows no significant correlation between age and Left ventricular ejection fraction of patients. In addition, simple linear regression shows age is not a good predictor of patients' LVEF.\n"
     ]
    }
   ],
   "source": [
    "if abs(correlation) < 0.3:\n",
    "    interpretation = (\n",
    "        f\"Pearson correlation of {correlation:.2f} shows no significant correlation between \"\n",
    "        \"age and Left ventricular ejection fraction of patients. \"\n",
    "        \"In addition, simple linear regression shows age is not a good predictor of patients' LVEF.\"\n",
    "    )\n",
    "else:\n",
    "    interpretation = (\n",
    "        f\"Pearson correlation of {correlation:.2f} shows a significant correlation between \"\n",
    "        \"age and Left ventricular ejection fraction of patients. \"\n",
    "        \"Simple linear regression suggests that age could be a predictor of patients' LVEF.\"\n",
    "    )\n",
    "print(interpretation)"
   ]
  },
  {
   "cell_type": "code",
   "execution_count": null,
   "id": "a09064db-0111-48d4-8571-4fbdf88c3e0e",
   "metadata": {},
   "outputs": [],
   "source": []
  }
 ],
 "metadata": {
  "kernelspec": {
   "display_name": "Python 3 (ipykernel)",
   "language": "python",
   "name": "python3"
  },
  "language_info": {
   "codemirror_mode": {
    "name": "ipython",
    "version": 3
   },
   "file_extension": ".py",
   "mimetype": "text/x-python",
   "name": "python",
   "nbconvert_exporter": "python",
   "pygments_lexer": "ipython3",
   "version": "3.12.4"
  }
 },
 "nbformat": 4,
 "nbformat_minor": 5
}
